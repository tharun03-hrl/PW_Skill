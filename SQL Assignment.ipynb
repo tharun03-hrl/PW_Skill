{
 "cells": [
  {
   "cell_type": "markdown",
   "id": "a5ef367e-2d8f-4121-b30f-2b2943d8bcac",
   "metadata": {},
   "source": [
    "### SQL Assignment"
   ]
  },
  {
   "cell_type": "code",
   "execution_count": null,
   "id": "2c661671-f5c9-4fcc-823b-ac458e2b2b0f",
   "metadata": {},
   "outputs": [],
   "source": []
  },
  {
   "cell_type": "markdown",
   "id": "3cdffeb1-de78-4f14-a91d-05d99d3942bc",
   "metadata": {},
   "source": [
    "#### Q1. What is a database? Differentiate between SQL and NoSQL databases."
   ]
  },
  {
   "cell_type": "markdown",
   "id": "978d5a58-fbd9-4fb9-9c9b-fdcd35f8622c",
   "metadata": {},
   "source": [
    "##### A database is a systematic collection of data. They support electronic storage and manipulation of data. Databases make data management easy\n",
    "\n",
    "SQL                                                     \n",
    "\n",
    "1. SQL databases have a predefined schema.                   \n",
    "2. SQL databases are table-based databases.                \n",
    "3. Vertically scalable.\n",
    "\n",
    "NOSQL \n",
    "\n",
    "1. It uses a dynamic schema for unstructured data.\n",
    "2. It can be document-based , key-value pairs and graph databases\n",
    "3. Horizontally Scalable "
   ]
  },
  {
   "cell_type": "markdown",
   "id": "9ed2b041-37fd-4c16-aa65-146672eeff3d",
   "metadata": {},
   "source": [
    "#### Q2. What is DDL? Explain why CREATE, DROP, ALTER, and TRUNCATE are used with an example."
   ]
  },
  {
   "cell_type": "markdown",
   "id": "47e5faa3-a1d9-4114-8773-603ce87fb433",
   "metadata": {},
   "source": [
    "##### DDL - [Data Definition Language(DDL)] -  To make/perform changes to the physical structure of any table residing inside a database, DDL is used. In SQL DDL commands are used to create and modify the structure of a database and database objects. These commands are CREATE, DROP, ALTER, TRUNCATE\n",
    "\n",
    "1. CREATE - For creating an database \n",
    "\n",
    "Syntax\n",
    "CREATE DATABASE database_name;\n",
    "\n",
    "Ex: CREATE DATABASE test_db;\n",
    "\n",
    "CREATE TABLE table_name(\n",
    "   column1 datatype,\n",
    "   column2 datatype,\n",
    "   .....\n",
    "   columnN datatype\n",
    ");\n",
    "\n",
    "Ex: \n",
    "\n",
    "CREATE TABLE my_table(\n",
    "    first_name varchar(20),\n",
    "    age INT\n",
    ");\n",
    "\n",
    "2. DROP - This command is used to remove an existing table along with its structure from the Database\n",
    "\n",
    "DROP TABLE table_name; \n",
    "\n",
    "\n",
    "3. ALTER  - This command is used to add, delete or change columns in the existing table. The user needs to know the existing table name and can do add, delete or modify tasks easily.\n",
    "\n",
    "Syntax\n",
    "\n",
    "ALTER TABLE table_name\n",
    "ADD column_name datatype;\n",
    "\n",
    "4. TRUNCATE - This command is used to remove all rows from the table, but the structure of the table still exists.\n",
    "\n",
    "Syntax\n",
    "\n",
    "TRUNCATE TABLE table_name;\n"
   ]
  },
  {
   "cell_type": "markdown",
   "id": "4bf49550-fd30-46d7-af5b-36233325984b",
   "metadata": {},
   "source": [
    "#### Q3. What is DML? Explain INSERT, UPDATE, and DELETE with an example."
   ]
  },
  {
   "cell_type": "markdown",
   "id": "d437ab39-9625-4183-93f7-7eae84f459b2",
   "metadata": {},
   "source": [
    "##### Data Manipulation Language (DML) allows you to modify the database instance by inserting, modifying, and deleting     its data. It is responsible for performing all types of data modification in a database\n",
    "\n",
    "1. INSERT  -  Used to insert data into a table\n",
    "\n",
    "Syntax:\n",
    "INSERT INTO TABLE_NAME (column name)  \n",
    "VALUES (values);  \n",
    "\n",
    "Example:\n",
    "INSERT INTO students (RollNo, FIrst_Name, Last_Name) VALUES ('60', 'Arun', 'Kumar');\n",
    "\n",
    "2. UPDATE  - This command is used to update or modify the value of a column in the table\n",
    "\n",
    "Syntax\n",
    "UPDATE TABLE_NAME  SET [column_name1= value1] [WHERE CONDITION];\n",
    "\n",
    "Example:\n",
    "UPDATE students SET First_Name = 'Ram', Last_Name= 'Prakesh' WHERE StudID = 3;\n",
    "\n",
    "3. DELETE  - This command is used to remove one or more rows from a table\n",
    "\n",
    "Syntax \n",
    "DELETE FROM table_name [WHERE condition];\n",
    "\n",
    "Example:\n",
    "DELETE FROM students \n",
    "WHERE FirstName = 'Ram';"
   ]
  },
  {
   "cell_type": "markdown",
   "id": "2acd1c0b-aad1-480b-bfae-66d34050f874",
   "metadata": {},
   "source": [
    "#### Q4. What is DQL? Explain SELECT with an example."
   ]
  },
  {
   "cell_type": "markdown",
   "id": "e78ac047-8082-4d0b-9a45-7e006aa4a1a1",
   "metadata": {},
   "source": [
    "##### Data Query Language (DQL) is used to fetch the data from the database. It uses only one command.\n",
    "\n",
    "SELECT  - Helps you to select the attribute based on the condition described by the WHERE clause.\n",
    "\n",
    "Syntax: \n",
    "\n",
    "SELECT COLUMN NAME FROM TABLES    \n",
    "WHERE conditions; \n",
    "\n",
    "Example:\n",
    "\n",
    "SELECT FirstName FROM Student WHERE RollNo > 15;\n"
   ]
  },
  {
   "cell_type": "markdown",
   "id": "c47cb1c3-fb5f-4aba-bdd7-6af868a3354e",
   "metadata": {},
   "source": [
    "#### Q5. Explain Primary Key and Foreign Key.\n",
    "\n",
    "###### Primary Key: \n",
    "\n",
    "A primary key constrain is a column or group of columns that uniquely identifies every row in the table of the relational database management system. It cannot be a duplicate, meaning the same value should not appear more than once in the table.\n",
    "\n",
    "###### Foreign Key: \n",
    "\n",
    "Foreign key is a column that creates a relationship between two tables. The purpose of the Foreign key is to maintain data integrity and allow navigation between two different instances of an entity."
   ]
  },
  {
   "cell_type": "markdown",
   "id": "9e6b4f7f-8a8e-4532-8a7c-928a969cfdcf",
   "metadata": {},
   "source": [
    "#### Q6.Write a python code to connect MySQL to python. Explain the cursor() and execute() method.\n",
    "import mysql.connector\n",
    "\n",
    "mydb = mysql.connector.connect(\n",
    "  host=\"localhost\",\n",
    "  user=\"abc\",\n",
    "  password=\"password\"\n",
    ")\n",
    "\n",
    "print(mydb) \n",
    "\n",
    "mycursor = mydb.cursor() \n",
    "\n",
    "mycursor.execute(\"SHOW DATABASES\") \n",
    "\n",
    "for x in mycursor:\n",
    "\n",
    "  print(x)\n",
    "  \n",
    "cursor() - Using the methods of it you can execute SQL statements, fetch data from the result sets, call procedure\n",
    "\n",
    "execute() - This method accepts a MySQL query as a parameter and executes the given query."
   ]
  },
  {
   "cell_type": "markdown",
   "id": "d9cd4406-13cb-4bd5-8be3-8522c3fee32b",
   "metadata": {},
   "source": [
    "#### Q7. Give the order of execution of SQL clauses in an SQL query."
   ]
  },
  {
   "cell_type": "markdown",
   "id": "9845d048-f05b-4f59-852a-c5747461071d",
   "metadata": {},
   "source": [
    "##### FROM > WHERE > GROUP BY > HAVING > SELECT > ORDER BY > LIMIT"
   ]
  },
  {
   "cell_type": "code",
   "execution_count": null,
   "id": "d5eb42a5-018a-4d71-b4a3-c828f702fd67",
   "metadata": {},
   "outputs": [],
   "source": []
  }
 ],
 "metadata": {
  "kernelspec": {
   "display_name": "Python 3 (ipykernel)",
   "language": "python",
   "name": "python3"
  },
  "language_info": {
   "codemirror_mode": {
    "name": "ipython",
    "version": 3
   },
   "file_extension": ".py",
   "mimetype": "text/x-python",
   "name": "python",
   "nbconvert_exporter": "python",
   "pygments_lexer": "ipython3",
   "version": "3.10.8"
  }
 },
 "nbformat": 4,
 "nbformat_minor": 5
}
