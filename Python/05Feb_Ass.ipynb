{
 "cells": [
  {
   "cell_type": "markdown",
   "id": "167963a5-75e8-449c-9cf7-e7cff86c07ca",
   "metadata": {},
   "source": [
    "### Q1. Explain Class and Object with respect to Object-Oriented Programming. Give a suitable example."
   ]
  },
  {
   "cell_type": "markdown",
   "id": "1f9b1ded-b9cf-4082-bafb-1e23eb700aa6",
   "metadata": {},
   "source": [
    "### Class\n",
    "##### A class is a collection of objects. A class contains the blueprints or the prototype from which the objects are being created. It is a logical entity that contains some attributes and methods. "
   ]
  },
  {
   "cell_type": "markdown",
   "id": "504b79d0-dd36-45bd-b3f7-540a21e4c50d",
   "metadata": {},
   "source": [
    "### Example for Class\n",
    "Let’s say you wanted to track the number of dogs that may have different attributes like breed, and age. If a list is used, the first element could be the dog’s breed while the second element could represent its age. Let’s suppose there are 100 different dogs, then how would you know which element is supposed to be which? What if you wanted to add other properties to these dogs? This lacks organization and it’s the exact need for classes. "
   ]
  },
  {
   "cell_type": "markdown",
   "id": "2ca917ef-f3f6-4c5b-8bb3-8c15da56a7af",
   "metadata": {},
   "source": [
    "### Object\n",
    "##### The object is an entity that has a state and behavior associated with it. It may be any real-world object like a mouse, keyboard, chair"
   ]
  },
  {
   "cell_type": "markdown",
   "id": "2d352c88-33ae-4611-b562-1ca2f39062aa",
   "metadata": {},
   "source": [
    "### Example of Object:"
   ]
  },
  {
   "cell_type": "markdown",
   "id": "769a0717-8408-41ed-8a33-6bdd1bcbe0fa",
   "metadata": {},
   "source": [
    "The identity can be considered as the name of the dog.\n",
    "State or Attributes can be considered as the breed, age, or color of the dog.\n",
    "The behavior can be considered as to whether the dog is eating or sleeping."
   ]
  },
  {
   "cell_type": "markdown",
   "id": "c477bc6b-c325-4ac6-bc4e-91a3b3a38b85",
   "metadata": {},
   "source": [
    "### Q2. Name the four pillars of OOPs."
   ]
  },
  {
   "cell_type": "markdown",
   "id": "dceb0bdc-1d81-47c3-88c2-b6e48eac617a",
   "metadata": {},
   "source": [
    "1. Polymorphism\n",
    "2. Encapsulation\n",
    "3. Inheritance\n",
    "4. Data Abstraction"
   ]
  },
  {
   "cell_type": "markdown",
   "id": "da82f466-7ce3-471c-b9b4-9bf8bb386c33",
   "metadata": {},
   "source": [
    "### Q3. Explain why the __init__() function is used. Give a suitable example."
   ]
  },
  {
   "cell_type": "markdown",
   "id": "8d396a0f-9dc1-4d2b-9f87-f32086c7804f",
   "metadata": {},
   "source": [
    "##### _ _ init _ _ method in Python is used to initialize objects of a class. It is also called a constructor.The task of constructors is to initialize(assign values) to the data members of the class when an object of the class is created"
   ]
  },
  {
   "cell_type": "code",
   "execution_count": 2,
   "id": "65f1b979-d61a-4a38-8b7d-d3e54b479ddf",
   "metadata": {},
   "outputs": [
    {
     "name": "stdout",
     "output_type": "stream",
     "text": [
      "Hello, my name is Nikhil\n"
     ]
    }
   ],
   "source": [
    "# A Sample class with init method\n",
    "class Person:\n",
    " \n",
    "    # init method or constructor\n",
    "    def __init__(self, name):\n",
    "        self.name = name\n",
    " \n",
    "    # Sample Method\n",
    "    def say_hi(self):\n",
    "        print('Hello, my name is', self.name)\n",
    " \n",
    " \n",
    "p = Person('Nikhil')\n",
    "p.say_hi()"
   ]
  },
  {
   "cell_type": "markdown",
   "id": "9861c641-a369-4295-98ee-9ac4a9c14229",
   "metadata": {},
   "source": [
    "### Q4. Why self is used in OOPs?"
   ]
  },
  {
   "cell_type": "markdown",
   "id": "90ab9acd-81b9-4e29-9f8b-6bbeed0a8962",
   "metadata": {},
   "source": [
    "When working with classes in Python, the term “self” refers to the instance of the class that is currently being used. It is customary to use “self” as the first parameter in instance methods of a class. Whenever you call a method of an object created from a class, the object is automatically passed as the first argument using the “self” parameter. This enables you to modify the object’s properties and execute tasks unique to that particular instance."
   ]
  },
  {
   "cell_type": "markdown",
   "id": "4a78bac8-30f7-4279-8940-883ffa71e990",
   "metadata": {},
   "source": [
    "### Q5. What is inheritance? Give an example for each type of inheritance."
   ]
  },
  {
   "cell_type": "markdown",
   "id": "eb0b2ab1-d3f0-427f-a3ee-754c6b2bea8a",
   "metadata": {},
   "source": [
    "#### It is a mechanism that allows you to create a hierarchy of classes that share a set of properties and methods by deriving a class from another class. "
   ]
  },
  {
   "cell_type": "markdown",
   "id": "277e0836-4f98-4239-8aef-574cb6afd908",
   "metadata": {},
   "source": [
    "### Different types of Python Inheritance"
   ]
  },
  {
   "cell_type": "markdown",
   "id": "fff29d0b-947b-459e-8dbc-fc150db643f9",
   "metadata": {},
   "source": [
    "### Single inheritance\n",
    "Single inheritance occurs when a class inherits from only one base class."
   ]
  },
  {
   "cell_type": "code",
   "execution_count": 3,
   "id": "8d1622be-d198-46d8-a2d9-455b8e476719",
   "metadata": {},
   "outputs": [
    {
     "name": "stdout",
     "output_type": "stream",
     "text": [
      "Animal speaks\n",
      "Dog barks\n"
     ]
    }
   ],
   "source": [
    "class Animal:\n",
    "    def speak(self):\n",
    "        print(\"Animal speaks\")\n",
    "\n",
    "class Dog(Animal):\n",
    "    def bark(self):\n",
    "        print(\"Dog barks\")\n",
    "\n",
    "# Creating an instance of the Dog class\n",
    "my_dog = Dog()\n",
    "my_dog.speak()  # Accessing the method from the base class\n",
    "my_dog.bark()   # Accessing the method from the derived class\n"
   ]
  },
  {
   "cell_type": "markdown",
   "id": "b6616dc1-7768-4ef8-9267-0edf28adbefa",
   "metadata": {},
   "source": [
    "### Multiple Inheritance:\n",
    "#### It occurs when a class inherits from more than one base class"
   ]
  },
  {
   "cell_type": "code",
   "execution_count": 4,
   "id": "e4d6e1a2-5f87-4da9-a0dd-bcb088dd3031",
   "metadata": {},
   "outputs": [
    {
     "name": "stdout",
     "output_type": "stream",
     "text": [
      "Animal speaks\n",
      "Can fly\n",
      "Can swim\n"
     ]
    }
   ],
   "source": [
    "class Flyable:\n",
    "    def fly(self):\n",
    "        print(\"Can fly\")\n",
    "\n",
    "class Swimmable:\n",
    "    def swim(self):\n",
    "        print(\"Can swim\")\n",
    "\n",
    "class FlyingFish(Animal, Flyable, Swimmable):\n",
    "    pass\n",
    "\n",
    "# Creating an instance of the FlyingFish class\n",
    "my_fish = FlyingFish()\n",
    "my_fish.speak()\n",
    "my_fish.fly()\n",
    "my_fish.swim()\n"
   ]
  },
  {
   "cell_type": "markdown",
   "id": "f170edf6-6cf7-46f2-97d2-6d92d9430b53",
   "metadata": {},
   "source": [
    "### Multilevel inheritance\n",
    "#### It occurs when a derived class inherits from another derived class."
   ]
  },
  {
   "cell_type": "code",
   "execution_count": 5,
   "id": "a7895f88-3c64-4a9f-aaa4-d3442fcd9c85",
   "metadata": {},
   "outputs": [
    {
     "name": "stdout",
     "output_type": "stream",
     "text": [
      "Animal speaks\n",
      "Bird chirps\n",
      "Parrot mimics\n"
     ]
    }
   ],
   "source": [
    "class Bird(Animal):\n",
    "    def chirp(self):\n",
    "        print(\"Bird chirps\")\n",
    "\n",
    "class Parrot(Bird):\n",
    "    def mimic(self):\n",
    "        print(\"Parrot mimics\")\n",
    "\n",
    "# Creating an instance of the Parrot class\n",
    "my_parrot = Parrot()\n",
    "my_parrot.speak()\n",
    "my_parrot.chirp()\n",
    "my_parrot.mimic()\n"
   ]
  },
  {
   "cell_type": "code",
   "execution_count": null,
   "id": "772c6eeb-4e6d-4a26-96bb-81bdea8e0507",
   "metadata": {},
   "outputs": [],
   "source": []
  },
  {
   "cell_type": "code",
   "execution_count": 6,
   "id": "2910ff16-d94c-4c8c-909d-471acfbe1cea",
   "metadata": {},
   "outputs": [
    {
     "name": "stdout",
     "output_type": "stream",
     "text": [
      "Drawing shape\n",
      "Drawing circle\n",
      "Drawing shape\n",
      "Drawing rectangle\n"
     ]
    }
   ],
   "source": [
    "class Shape:\n",
    "    def draw(self):\n",
    "        print(\"Drawing shape\")\n",
    "\n",
    "class Circle(Shape):\n",
    "    def draw_circle(self):\n",
    "        print(\"Drawing circle\")\n",
    "\n",
    "class Rectangle(Shape):\n",
    "    def draw_rectangle(self):\n",
    "        print(\"Drawing rectangle\")\n",
    "\n",
    "# Creating instances of the Circle and Rectangle classes\n",
    "my_circle = Circle()\n",
    "my_rectangle = Rectangle()\n",
    "\n",
    "my_circle.draw()\n",
    "my_circle.draw_circle()\n",
    "\n",
    "my_rectangle.draw()\n",
    "my_rectangle.draw_rectangle()\n"
   ]
  },
  {
   "cell_type": "code",
   "execution_count": null,
   "id": "8151f87b-0d81-4e5b-8a5b-59c0220b278e",
   "metadata": {},
   "outputs": [],
   "source": []
  }
 ],
 "metadata": {
  "kernelspec": {
   "display_name": "Python 3 (ipykernel)",
   "language": "python",
   "name": "python3"
  },
  "language_info": {
   "codemirror_mode": {
    "name": "ipython",
    "version": 3
   },
   "file_extension": ".py",
   "mimetype": "text/x-python",
   "name": "python",
   "nbconvert_exporter": "python",
   "pygments_lexer": "ipython3",
   "version": "3.10.8"
  }
 },
 "nbformat": 4,
 "nbformat_minor": 5
}
