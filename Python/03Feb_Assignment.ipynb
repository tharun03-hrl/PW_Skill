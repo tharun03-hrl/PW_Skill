{
 "cells": [
  {
   "cell_type": "markdown",
   "id": "74deab30-d392-4020-af50-c42b8a986694",
   "metadata": {},
   "source": [
    "### Q1. Which keyword is used to create a function? Create a function to return a list of odd numbers in therange of 1 to 25."
   ]
  },
  {
   "cell_type": "code",
   "execution_count": 18,
   "id": "c4769158-e5e0-46e2-8b7b-01893335b79f",
   "metadata": {},
   "outputs": [],
   "source": [
    "#### def is used to create a function \n",
    "##Example\n",
    "def hello():\n",
    "    pass"
   ]
  },
  {
   "cell_type": "markdown",
   "id": "ac7cc3bf-f05f-4612-ae2b-94040911cb09",
   "metadata": {},
   "source": [
    "#### Create a function to return a list of odd numbers in therange of 1 to 25."
   ]
  },
  {
   "cell_type": "code",
   "execution_count": 17,
   "id": "58e7a962-9d94-4ff8-8d2f-84dd7e5a371b",
   "metadata": {},
   "outputs": [
    {
     "name": "stdout",
     "output_type": "stream",
     "text": [
      "[1, 3, 5, 7, 9, 11, 13, 15, 17, 19, 21, 23, 25]\n"
     ]
    }
   ],
   "source": [
    "def odd_numbers():\n",
    "    return [num for num in range(1, 26) if num % 2 != 0]\n",
    "\n",
    "result = odd_numbers()\n",
    "print(result)"
   ]
  },
  {
   "cell_type": "markdown",
   "id": "a4903821-41fe-4d74-b3e5-48f0cc476fe3",
   "metadata": {},
   "source": [
    "#### Q2. Why *args and **kwargs is used in some functions? Create a function each for *args and **kwargs to demonstrate their use."
   ]
  },
  {
   "cell_type": "markdown",
   "id": "5932031b-fa59-4b77-9b66-7298d7e6573e",
   "metadata": {},
   "source": [
    "### Using *args\n",
    "The special syntax *args in function definitions in Python is used to pass a variable number of arguments to a function. It is used to pass a non-keyworded, variable-length argument list. \n",
    "\n",
    "For example, we want to make a multiply function that takes any number of arguments and is able to multiply them all together. It can be done using *args.\n",
    "\n",
    "### Using **kwargs\n",
    "The special syntax **kwargs in function definitions in Python is used to pass a keyworded, variable-length argument list. \n",
    "\n",
    "A keyword argument is where you provide a name to the variable as you pass it into the function.\n"
   ]
  },
  {
   "cell_type": "code",
   "execution_count": 19,
   "id": "758cf260-20e1-443b-a683-5219d3c0ccf7",
   "metadata": {},
   "outputs": [
    {
     "name": "stdout",
     "output_type": "stream",
     "text": [
      "Welcome\n",
      "to\n",
      "pwskills\n"
     ]
    }
   ],
   "source": [
    "## using *args\n",
    "def myFun(*argv):\n",
    "    for arg in argv:\n",
    "        print(arg)\n",
    " \n",
    " \n",
    "myFun('Welcome','to','pwskills')"
   ]
  },
  {
   "cell_type": "code",
   "execution_count": 28,
   "id": "45505b35-6677-484d-b2c3-c263abb022ef",
   "metadata": {},
   "outputs": [
    {
     "name": "stdout",
     "output_type": "stream",
     "text": [
      "name: John\n",
      "age: 25\n",
      "city: Exampleville\n"
     ]
    }
   ],
   "source": [
    "### Using **kwargs\n",
    "def print_info(**kwargs):\n",
    "    for key, value in kwargs.items():\n",
    "        print(f\"{key}: {value}\")\n",
    "\n",
    "print_info(name=\"John\", age=25, city=\"Exampleville\")"
   ]
  },
  {
   "cell_type": "markdown",
   "id": "6a772028-1fff-4cc5-969a-a40c61291375",
   "metadata": {},
   "source": [
    "### Q3. What is an iterator in python? Name the method used to initialise the iterator object and the method used for iteration. Use these methods to print the first five elements of the given list [2, 4, 6, 8, 10, 12, 14, 16,18, 20]."
   ]
  },
  {
   "cell_type": "markdown",
   "id": "0b574f04-83fb-4485-8062-2305e6e46ae5",
   "metadata": {},
   "source": [
    "In Python, an iterator is an object that allows you to iterate (loop) over a sequence, such as a list or tuple. Iterators are implemented using two methods: __iter__ and __next__.\n",
    "\n",
    "__iter__ method: This method is called when you create an iterator object. It should return the iterator object itself.\n",
    "\n",
    "__next__ method: This method is called to get the next value from the iterator. It should raise StopIteration when there are no more items to return."
   ]
  },
  {
   "cell_type": "code",
   "execution_count": 29,
   "id": "85ceac2e-2ba7-4faf-81ee-e1659e6e0e61",
   "metadata": {},
   "outputs": [
    {
     "name": "stdout",
     "output_type": "stream",
     "text": [
      "2\n",
      "4\n",
      "6\n",
      "8\n",
      "10\n"
     ]
    }
   ],
   "source": [
    "class MyIterator:\n",
    "    def __init__(self, data):\n",
    "        self.data = data\n",
    "        self.index = 0\n",
    "\n",
    "    def __iter__(self):\n",
    "        return self\n",
    "\n",
    "    def __next__(self):\n",
    "        if self.index < len(self.data):\n",
    "            result = self.data[self.index]\n",
    "            self.index += 1\n",
    "            return result\n",
    "        else:\n",
    "            raise StopIteration\n",
    "\n",
    "# Creating an iterator object\n",
    "my_iterator = MyIterator([2, 4, 6, 8, 10, 12, 14, 16, 18, 20])\n",
    "\n",
    "# Iterating and printing the first five elements\n",
    "for _ in range(5):\n",
    "    print(next(my_iterator))\n"
   ]
  },
  {
   "cell_type": "markdown",
   "id": "7d6f47fb-9063-494b-8da8-81f4b50e757b",
   "metadata": {},
   "source": [
    "### Q4. What is a generator function in python? Why yield keyword is used? Give an example of a generator function."
   ]
  },
  {
   "cell_type": "markdown",
   "id": "f85701eb-39a6-4f9f-94ef-f030dd69a749",
   "metadata": {},
   "source": [
    "#### A generator function in Python is a special type of function that allows you to iterate over a potentially large set of data efficiently. Unlike regular functions that return a value and terminate, generator functions use the yield keyword to produce a series of values during the iteration process. The state of the generator function is preserved between calls, making it memory-efficient for handling large datasets or infinite sequences."
   ]
  },
  {
   "cell_type": "code",
   "execution_count": 30,
   "id": "174eeacd-a397-4005-82ff-dba9ccb5982e",
   "metadata": {},
   "outputs": [
    {
     "name": "stdout",
     "output_type": "stream",
     "text": [
      "0\n",
      "1\n",
      "4\n",
      "9\n",
      "16\n"
     ]
    }
   ],
   "source": [
    "def generate_squares(n):\n",
    "    for i in range(n):\n",
    "        yield i ** 2\n",
    "\n",
    "# Example usage:\n",
    "squares_generator = generate_squares(5)\n",
    "\n",
    "# Iterating over the generator\n",
    "for square in squares_generator:\n",
    "    print(square)"
   ]
  },
  {
   "cell_type": "markdown",
   "id": "293a0410-f232-495a-b5bd-a4709a52ff5a",
   "metadata": {},
   "source": [
    "### Q5. Create a generator function for prime numbers less than 1000. Use the next() method to print the first 20 prime numbers."
   ]
  },
  {
   "cell_type": "code",
   "execution_count": 31,
   "id": "01c54cfc-5d06-4bc8-9604-2bacbe464ef7",
   "metadata": {},
   "outputs": [
    {
     "name": "stdout",
     "output_type": "stream",
     "text": [
      "2\n",
      "3\n",
      "5\n",
      "7\n",
      "11\n",
      "13\n",
      "17\n",
      "19\n",
      "23\n",
      "29\n",
      "31\n",
      "37\n",
      "41\n",
      "43\n",
      "47\n",
      "53\n",
      "59\n",
      "61\n",
      "67\n",
      "71\n"
     ]
    }
   ],
   "source": [
    "def generate_primes():\n",
    "    primes = []\n",
    "    num = 2\n",
    "\n",
    "    while True:\n",
    "        is_prime = all(num % prime != 0 for prime in primes)\n",
    "        if is_prime:\n",
    "            primes.append(num)\n",
    "            yield num\n",
    "        num += 1\n",
    "\n",
    "# Creating a generator object\n",
    "primes_generator = generate_primes()\n",
    "\n",
    "# Printing the first 20 prime numbers using next()\n",
    "for _ in range(20):\n",
    "    print(next(primes_generator))"
   ]
  },
  {
   "cell_type": "code",
   "execution_count": null,
   "id": "6c52dbb8-5cf2-496c-a817-1461d3d5e53f",
   "metadata": {},
   "outputs": [],
   "source": []
  }
 ],
 "metadata": {
  "kernelspec": {
   "display_name": "Python 3 (ipykernel)",
   "language": "python",
   "name": "python3"
  },
  "language_info": {
   "codemirror_mode": {
    "name": "ipython",
    "version": 3
   },
   "file_extension": ".py",
   "mimetype": "text/x-python",
   "name": "python",
   "nbconvert_exporter": "python",
   "pygments_lexer": "ipython3",
   "version": "3.10.8"
  }
 },
 "nbformat": 4,
 "nbformat_minor": 5
}
