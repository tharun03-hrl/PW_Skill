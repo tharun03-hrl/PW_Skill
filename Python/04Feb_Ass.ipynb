{
 "cells": [
  {
   "cell_type": "markdown",
   "id": "0fda32e4-ce0c-465a-a232-7373e0ec759b",
   "metadata": {},
   "source": [
    "### Create a python program to sort the given list of tuples based on integer value using a lambda function.\n",
    "[('Sachin Tendulkar', 34357), ('Ricky Ponting', 27483), ('Jack Kallis', 25534), ('Virat Kohli', 24936)]"
   ]
  },
  {
   "cell_type": "code",
   "execution_count": 1,
   "id": "7e64882e-8dc9-4163-ae3d-1987a1814b7d",
   "metadata": {},
   "outputs": [
    {
     "name": "stdout",
     "output_type": "stream",
     "text": [
      "\n",
      "Sorting the List of Tuples:\n",
      "[('Virat Kohli', 24936), ('Jack Kallis', 25534), ('Ricky Ponting', 27483), ('Sachin Tendulkar', 34357)]\n"
     ]
    }
   ],
   "source": [
    "\n",
    "players_list = [('Sachin Tendulkar', 34357), ('Ricky Ponting', 27483), ('Jack Kallis', 25534), ('Virat Kohli', 24936)]\n",
    "\n",
    "\n",
    "\n",
    "# using a lambda function as the sorting key to extract the second element\n",
    "players_list.sort(key=lambda x: x[1])\n",
    "\n",
    "# Display the sorted list of tuples to the console\n",
    "print(\"\\nSorting the List of Tuples:\")\n",
    "print(players_list) "
   ]
  },
  {
   "cell_type": "markdown",
   "id": "d4160a85-b9fb-4520-b653-7e30acc4d9ad",
   "metadata": {},
   "source": [
    "### Q2. Write a Python Program to find the squares of all the numbers in the given list of integers using lambda and map functions.\n",
    "[1, 2, 3, 4, 5, 6, 7, 8, 9, 10]"
   ]
  },
  {
   "cell_type": "code",
   "execution_count": 11,
   "id": "03d40c25-7edd-43b6-b7be-f8ad060e204b",
   "metadata": {},
   "outputs": [
    {
     "name": "stdout",
     "output_type": "stream",
     "text": [
      "List of numbers:\n",
      "[1, 2, 3, 4, 5, 6, 7, 8, 9, 10]\n",
      "\n",
      "Square of every number of the provided list:\n",
      "(1, 4, 9, 16, 25, 36, 49, 64, 81, 100)\n"
     ]
    }
   ],
   "source": [
    "numbers = [1, 2, 3, 4, 5, 6, 7, 8, 9, 10]\n",
    "print(\"List of numbers:\")\n",
    "print(numbers)\n",
    "print(\"\\nSquare of every number of the provided list:\")\n",
    "square_numbers = tuple(map(lambda x: x ** 2, numbers))\n",
    "print(square_numbers)"
   ]
  },
  {
   "cell_type": "markdown",
   "id": "5f26600e-4420-4400-a822-70e609111997",
   "metadata": {},
   "source": [
    "### Q3. Write a python program to convert the given list of integers into a tuple of strings. Use map and lambda functions\n",
    "Given String: [1, 2, 3, 4, 5, 6, 7, 8, 9, 10]\n",
    "Expected output: ('1', '2', '3', '4', '5', '6', '7', '8', '9', '10')"
   ]
  },
  {
   "cell_type": "code",
   "execution_count": 4,
   "id": "28660188-5244-4f58-bce6-a6072f8b600b",
   "metadata": {},
   "outputs": [
    {
     "name": "stdout",
     "output_type": "stream",
     "text": [
      "('1', '2', '3', '4', '5', '6', '7', '8', '9', '10')\n"
     ]
    }
   ],
   "source": [
    "list = [1,2,3,4,5,6,7,8,9,10]\n",
    "tuple_string = map(lambda s: str(s),list)\n",
    "print(tuple(tuple_string))"
   ]
  },
  {
   "cell_type": "markdown",
   "id": "fa943aa3-1610-4cf0-a8c9-9bdd6c52660a",
   "metadata": {},
   "source": [
    "### Q4 : Write a python program using reduce function to compute the product of a list containing numbers from 1 to 25."
   ]
  },
  {
   "cell_type": "code",
   "execution_count": 13,
   "id": "12d11ae5-7be6-4067-919d-c659d41cefff",
   "metadata": {},
   "outputs": [
    {
     "name": "stdout",
     "output_type": "stream",
     "text": [
      "The product of the numbers from 1 to 25 is: 15511210043330985984000000\n"
     ]
    }
   ],
   "source": [
    "from functools import reduce\n",
    "\n",
    "# Function to calculate the product of two numbers\n",
    "def multiply(x, y):\n",
    "    return x * y\n",
    "\n",
    "# Generate a list containing numbers from 1 to 25\n",
    "numbers = range(1, 26)\n",
    "\n",
    "# Use the reduce function to compute the product of the list\n",
    "product = reduce(multiply, numbers)\n",
    "\n",
    "# Print the result\n",
    "print(\"The product of the numbers from 1 to 25 is:\", product)\n"
   ]
  },
  {
   "cell_type": "markdown",
   "id": "1ce53560-4401-4254-b592-123064fd0fad",
   "metadata": {},
   "source": [
    "### Q5. Write a python program to filter the numbers in a given list that are divisible by 2 and 3 using the filter function.[2, 3, 6, 9, 27, 60, 90, 120, 55, 46]"
   ]
  },
  {
   "cell_type": "code",
   "execution_count": 14,
   "id": "c8eff068-b075-4d36-ba37-c47c15877b4c",
   "metadata": {},
   "outputs": [
    {
     "name": "stdout",
     "output_type": "stream",
     "text": [
      "Numbers divisible by 2 and 3: (6, 60, 90, 120)\n"
     ]
    }
   ],
   "source": [
    "# Given list of numbers\n",
    "numbers = [2, 3, 6, 9, 27, 60, 90, 120, 55, 46]\n",
    "\n",
    "# Use the filter function to filter numbers divisible by 2 and 3\n",
    "filtered_numbers = tuple(filter(lambda x: x % 2 == 0 and x % 3 == 0, numbers))\n",
    "\n",
    "# Print the result\n",
    "print(\"Numbers divisible by 2 and 3:\", filtered_numbers)"
   ]
  },
  {
   "cell_type": "markdown",
   "id": "29ba93c9-1275-45aa-b598-e58e449857eb",
   "metadata": {},
   "source": [
    "### Q6. Write a python program to find palindromes in the given list of strings using lambda and filter function.\n",
    "['python', 'php', 'aba', 'radar', 'level']"
   ]
  },
  {
   "cell_type": "code",
   "execution_count": 16,
   "id": "51b742a0-c15c-4779-b154-a27c847ca420",
   "metadata": {},
   "outputs": [
    {
     "name": "stdout",
     "output_type": "stream",
     "text": [
      "('php', 'aba', 'radar', 'level')\n"
     ]
    }
   ],
   "source": [
    "string = ['python', 'php', 'aba', 'radar', 'level']\n",
    "palindromes = filter(lambda x: x.lower() == x[::-1].lower() , string)\n",
    "print(tuple(palindromes))"
   ]
  },
  {
   "cell_type": "code",
   "execution_count": null,
   "id": "65e2fb99-61f2-4786-a6f6-1a9a18d2b951",
   "metadata": {},
   "outputs": [],
   "source": []
  }
 ],
 "metadata": {
  "kernelspec": {
   "display_name": "Python 3 (ipykernel)",
   "language": "python",
   "name": "python3"
  },
  "language_info": {
   "codemirror_mode": {
    "name": "ipython",
    "version": 3
   },
   "file_extension": ".py",
   "mimetype": "text/x-python",
   "name": "python",
   "nbconvert_exporter": "python",
   "pygments_lexer": "ipython3",
   "version": "3.10.8"
  }
 },
 "nbformat": 4,
 "nbformat_minor": 5
}
