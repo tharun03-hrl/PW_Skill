{
 "cells": [
  {
   "cell_type": "markdown",
   "id": "3a1e76e0-81d6-42e7-a6a3-bd86afdf7d0d",
   "metadata": {},
   "source": [
    "## Python Assignment - 1"
   ]
  },
  {
   "cell_type": "markdown",
   "id": "240775bf-1cbc-466e-8723-46ec061b3cc9",
   "metadata": {},
   "source": [
    "#### Q1. What are the characteristics of the tuples? Is tuple immutable?"
   ]
  },
  {
   "cell_type": "markdown",
   "id": "09eae37c-d488-4ed4-8578-35e6e930a2fb",
   "metadata": {},
   "source": [
    "\n",
    " ##### 1. Tuple is formed with parentheses()\n"
   ]
  },
  {
   "cell_type": "code",
   "execution_count": 1,
   "id": "5fcdd9e0-3cda-4d04-913a-31924fa63cce",
   "metadata": {},
   "outputs": [
    {
     "data": {
      "text/plain": [
       "tuple"
      ]
     },
     "execution_count": 1,
     "metadata": {},
     "output_type": "execute_result"
    }
   ],
   "source": [
    "t = (1,2,3)\n",
    "type(t)"
   ]
  },
  {
   "cell_type": "markdown",
   "id": "f28f2c92-0025-40fc-88a3-b0da4c3e581b",
   "metadata": {},
   "source": [
    "##### 2. It can store different data type "
   ]
  },
  {
   "cell_type": "code",
   "execution_count": 3,
   "id": "e308316b-ecd4-4bd0-a959-4a2eb60af8f3",
   "metadata": {},
   "outputs": [
    {
     "name": "stdout",
     "output_type": "stream",
     "text": [
      "(1, 23, 23.5, (4+5j), 'tharun')\n"
     ]
    }
   ],
   "source": [
    "t1 = (1,23,23.5,4+5j,\"tharun\")\n",
    "print(t1)"
   ]
  },
  {
   "cell_type": "code",
   "execution_count": 7,
   "id": "62153338-1778-4901-95a3-29b3572753e6",
   "metadata": {},
   "outputs": [
    {
     "data": {
      "text/plain": [
       "'Tuple are basically follows Immutability concepts where it is not going to allow to change any element at a particular index'"
      ]
     },
     "execution_count": 7,
     "metadata": {},
     "output_type": "execute_result"
    }
   ],
   "source": [
    "\"\"\"Tuple are basically follows Immutability concepts where it is not going to allow to change any element at a particular index\"\"\""
   ]
  },
  {
   "cell_type": "code",
   "execution_count": 4,
   "id": "a86ace35-6bf2-45f8-a9a8-9ed905bab8fa",
   "metadata": {},
   "outputs": [
    {
     "ename": "TypeError",
     "evalue": "'tuple' object does not support item assignment",
     "output_type": "error",
     "traceback": [
      "\u001b[0;31m---------------------------------------------------------------------------\u001b[0m",
      "\u001b[0;31mTypeError\u001b[0m                                 Traceback (most recent call last)",
      "Cell \u001b[0;32mIn[4], line 1\u001b[0m\n\u001b[0;32m----> 1\u001b[0m \u001b[43mt1\u001b[49m\u001b[43m[\u001b[49m\u001b[38;5;241;43m0\u001b[39;49m\u001b[43m]\u001b[49m \u001b[38;5;241m=\u001b[39m \u001b[38;5;241m234\u001b[39m\n",
      "\u001b[0;31mTypeError\u001b[0m: 'tuple' object does not support item assignment"
     ]
    }
   ],
   "source": [
    "t1[0] = 234"
   ]
  },
  {
   "cell_type": "markdown",
   "id": "c8cc365a-4f4c-40e8-be5b-8ddaa14d5a30",
   "metadata": {},
   "source": [
    "#### Q2. What are the two tuple methods in python? Give an example of each method. Give a reason why tuples have only two in-built methods as compared to Lists."
   ]
  },
  {
   "cell_type": "markdown",
   "id": "0580ead5-f1ba-4a81-8847-6f258cfc454b",
   "metadata": {},
   "source": [
    "#### There are 2 methods \n",
    " 1) Index()\n",
    " 2) count()"
   ]
  },
  {
   "cell_type": "code",
   "execution_count": 14,
   "id": "61ed0c62-d008-4abf-95b2-3a0c8b4e4888",
   "metadata": {},
   "outputs": [
    {
     "data": {
      "text/plain": [
       "1"
      ]
     },
     "execution_count": 14,
     "metadata": {},
     "output_type": "execute_result"
    }
   ],
   "source": [
    "t1.count(23) ### returns no.of times the specified element "
   ]
  },
  {
   "cell_type": "code",
   "execution_count": 15,
   "id": "4ff42822-bdc8-4ec4-92dc-6e319d3c63b6",
   "metadata": {},
   "outputs": [
    {
     "data": {
      "text/plain": [
       "4"
      ]
     },
     "execution_count": 15,
     "metadata": {},
     "output_type": "execute_result"
    }
   ],
   "source": [
    "t1.index(\"tharun\") ### returns first instance of the requested element  "
   ]
  },
  {
   "cell_type": "markdown",
   "id": "cb5dbdb1-bb8f-4231-bf28-d805bca62dea",
   "metadata": {},
   "source": [
    "##### Lists have several built-in methods. A unexpected change or error is more likely to occur in a list. In a tuple, changes and errors don't usually occur because of immutability"
   ]
  },
  {
   "cell_type": "markdown",
   "id": "6d984687-059e-4910-bf1d-9d172f425b50",
   "metadata": {},
   "source": [
    "#### Q3. Which collection datatypes in python do not allow duplicate items? Write a code using a set to remove duplicates from the  given list."
   ]
  },
  {
   "cell_type": "code",
   "execution_count": 17,
   "id": "4755c6d6-e965-46b0-95c5-3d1505a8e797",
   "metadata": {},
   "outputs": [
    {
     "name": "stdout",
     "output_type": "stream",
     "text": [
      "{1, 2, 3, 4}\n"
     ]
    }
   ],
   "source": [
    "set = {1, 1, 2, 1, 3, 1, 4, 2, 1, 2, 2, 2, 3, 2, 4, 3, 1, 3, 2, 3, 3, 3, 4, 4, 1, 4, 2, 4, 3, 4, 4}\n",
    "print(set)"
   ]
  },
  {
   "cell_type": "markdown",
   "id": "568b51bf-e95a-4cef-b366-1f7631f8c7b9",
   "metadata": {},
   "source": [
    "#### Q4. Explain the difference between the union() and update() methods for a set. Give an example of each method."
   ]
  },
  {
   "cell_type": "markdown",
   "id": "f05d2482-606e-4bdb-8405-a4cc972c543d",
   "metadata": {},
   "source": [
    "##### union()  -  Returns a set that contains all items from the original set, and all items from the specified set(s)\n",
    "##### update() -  method updates the current set, by adding items from another set (or any other iterable).If an item is present in both sets, only one appearance of this item will be present in the updated set"
   ]
  },
  {
   "cell_type": "code",
   "execution_count": 20,
   "id": "bb1a29ae-fb57-4d54-9e0d-49913cd37f04",
   "metadata": {},
   "outputs": [
    {
     "name": "stdout",
     "output_type": "stream",
     "text": [
      "{1, 2, 3, 4, 5, 6, 7}\n"
     ]
    }
   ],
   "source": [
    "s1 = {1,2,3,4}\n",
    "s2 = {4,5,6,7}\n",
    "s3 = s1.union(s2)\n",
    "print(s3)"
   ]
  },
  {
   "cell_type": "code",
   "execution_count": 25,
   "id": "8d4c4a72-8eca-448d-a52a-134a27e074b2",
   "metadata": {},
   "outputs": [
    {
     "name": "stdout",
     "output_type": "stream",
     "text": [
      "{1, 2, 3, 4, 5, 6, 7}\n"
     ]
    }
   ],
   "source": [
    "s1.update(s2)\n",
    "print(s1)"
   ]
  },
  {
   "cell_type": "markdown",
   "id": "5c667706-f53d-4e41-ac20-d7aa7e16e78c",
   "metadata": {},
   "source": [
    "#### Q5.What is a dictionary? Give an example. Also, state whether a dictionary is ordered or unordered."
   ]
  },
  {
   "cell_type": "markdown",
   "id": "7b81cf17-64ed-4bc2-82bc-c1053fa4fa4f",
   "metadata": {},
   "source": [
    "##### It is a collection of keys values, used to store data values like a map, which, unlike other data types which hold only a single value as an element . \n",
    "##### Dictionary is an ordered collection .\n"
   ]
  },
  {
   "cell_type": "code",
   "execution_count": 27,
   "id": "f59b3017-3c7f-4846-98b8-0d2ca705f5e9",
   "metadata": {},
   "outputs": [
    {
     "name": "stdout",
     "output_type": "stream",
     "text": [
      "{'name': 'Arun', 'emailid': 'arun@gmail.com', 'course': 'Masters DataScience'} <class 'dict'>\n"
     ]
    }
   ],
   "source": [
    "d = {\"name\":\"Arun\" , \"emailid\":\"arun@gmail.com\" , \"course\" : \"Masters DataScience\"}\n",
    "print(d , type(dict))"
   ]
  },
  {
   "cell_type": "markdown",
   "id": "5660378e-3e6d-4e4e-8c72-ed5a899f90b6",
   "metadata": {},
   "source": [
    "#### Q6.Can we create a nested dictionary? If so, please give an example by creating a simple one-level nested dictionary."
   ]
  },
  {
   "cell_type": "code",
   "execution_count": 30,
   "id": "99b30d11-75e9-4485-bc7e-a9e21fca23c1",
   "metadata": {},
   "outputs": [
    {
     "name": "stdout",
     "output_type": "stream",
     "text": [
      "{1: {'name': 'John', 'age': '27', 'sex': 'Male'}, 2: {'name': 'Marie', 'age': '22', 'sex': 'Female'}}\n"
     ]
    }
   ],
   "source": [
    "people = {1: {'name': 'John', 'age': '27', 'sex': 'Male'},\n",
    "          2: {'name': 'Marie', 'age': '22', 'sex': 'Female'}}\n",
    "\n",
    "print(people)\n"
   ]
  },
  {
   "cell_type": "markdown",
   "id": "8b8c1d61-c2a4-43b2-b0a6-d08da6f1db3e",
   "metadata": {},
   "source": [
    "#### Q7. Using setdefault() method, create key named topics in the given dictionary and also add the value of the key as this list ['Python', 'Machine Learning’, 'Deep Learning'] dict1 = {'language' : 'Python', 'course': 'Data Science Masters'}"
   ]
  },
  {
   "cell_type": "code",
   "execution_count": 32,
   "id": "4c583ba3-8cd8-4cce-89e8-f01c2aa69ba3",
   "metadata": {},
   "outputs": [
    {
     "name": "stdout",
     "output_type": "stream",
     "text": [
      "Default value ['Python', 'Machine Learning', 'Deep Learning']\n",
      "{'language': ['Python', 'Machine Learning', 'Deep Learning'], 'course': 'Data Science Masters'}\n"
     ]
    }
   ],
   "source": [
    "dict1 = {'language':['Python','Machine Learning','Deep Learning'], 'course':'Data Science Masters'}\n",
    "dict2 = dict1.setdefault('language')\n",
    "print(\"Default value\" ,dict2)\n",
    "print(dict1)"
   ]
  },
  {
   "cell_type": "markdown",
   "id": "ddd50d8b-b20f-45b6-8407-606b351fc725",
   "metadata": {},
   "source": [
    "#### Q8.What are the three view objects in dictionaries?\n",
    "     Key \n",
    "     Value \n",
    "     Items "
   ]
  },
  {
   "cell_type": "code",
   "execution_count": 36,
   "id": "39154ce3-d7a6-4cae-aab0-b03d6d2471e2",
   "metadata": {},
   "outputs": [
    {
     "name": "stdout",
     "output_type": "stream",
     "text": [
      "dict_keys(['Sport', 'Teams'])\n"
     ]
    }
   ],
   "source": [
    "dict1 = {'Sport': 'Cricket' , 'Teams': ['India', 'Australia', 'England', 'South Africa', 'Sri Lanka', 'New Zealand']}\n",
    "k = dict1.keys()\n",
    "print(k) ## returns  key"
   ]
  },
  {
   "cell_type": "code",
   "execution_count": 37,
   "id": "e3902f6d-2a18-4541-8fab-a4950c848963",
   "metadata": {},
   "outputs": [
    {
     "name": "stdout",
     "output_type": "stream",
     "text": [
      "dict_values(['Cricket', ['India', 'Australia', 'England', 'South Africa', 'Sri Lanka', 'New Zealand']])\n"
     ]
    }
   ],
   "source": [
    "v = dict1.values()\n",
    "print(v)"
   ]
  },
  {
   "cell_type": "code",
   "execution_count": 38,
   "id": "f064c261-9ae4-442a-a110-64592664760c",
   "metadata": {},
   "outputs": [
    {
     "name": "stdout",
     "output_type": "stream",
     "text": [
      "dict_items([('Sport', 'Cricket'), ('Teams', ['India', 'Australia', 'England', 'South Africa', 'Sri Lanka', 'New Zealand'])])\n"
     ]
    }
   ],
   "source": [
    "i = dict1.items()\n",
    "print(i)"
   ]
  },
  {
   "cell_type": "code",
   "execution_count": null,
   "id": "14a9871a-aa03-4ca7-8b5a-6dc65fdd843a",
   "metadata": {},
   "outputs": [],
   "source": []
  }
 ],
 "metadata": {
  "kernelspec": {
   "display_name": "Python 3 (ipykernel)",
   "language": "python",
   "name": "python3"
  },
  "language_info": {
   "codemirror_mode": {
    "name": "ipython",
    "version": 3
   },
   "file_extension": ".py",
   "mimetype": "text/x-python",
   "name": "python",
   "nbconvert_exporter": "python",
   "pygments_lexer": "ipython3",
   "version": "3.10.8"
  }
 },
 "nbformat": 4,
 "nbformat_minor": 5
}
